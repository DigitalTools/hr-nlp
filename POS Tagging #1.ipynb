{
 "cells": [
  {
   "cell_type": "code",
   "execution_count": 10,
   "metadata": {
    "collapsed": false
   },
   "outputs": [
    {
     "ename": "AttributeError",
     "evalue": "module 'nltk.tag' has no attribute '_POS_TAGGER'",
     "output_type": "error",
     "traceback": [
      "\u001b[0;31m---------------------------------------------------------------------------\u001b[0m",
      "\u001b[0;31mAttributeError\u001b[0m                            Traceback (most recent call last)",
      "\u001b[0;32m<ipython-input-10-bc69f24793f1>\u001b[0m in \u001b[0;36m<module>\u001b[0;34m()\u001b[0m\n\u001b[1;32m      1\u001b[0m \u001b[0;32mimport\u001b[0m \u001b[0mnltk\u001b[0m\u001b[0;34m\u001b[0m\u001b[0m\n\u001b[0;32m----> 2\u001b[0;31m \u001b[0mnltk\u001b[0m\u001b[0;34m.\u001b[0m\u001b[0mtag\u001b[0m\u001b[0;34m.\u001b[0m\u001b[0m_POS_TAGGER\u001b[0m\u001b[0;34m\u001b[0m\u001b[0m\n\u001b[0m",
      "\u001b[0;31mAttributeError\u001b[0m: module 'nltk.tag' has no attribute '_POS_TAGGER'"
     ]
    }
   ],
   "source": [
    "import nltk\n",
    "nltk.tag._POS_TAGGER"
   ]
  },
  {
   "cell_type": "code",
   "execution_count": 13,
   "metadata": {
    "collapsed": false
   },
   "outputs": [
    {
     "name": "stdout",
     "output_type": "stream",
     "text": [
      "[('The', 'DET'), ('planet', 'NOUN'), ('Jupiter', 'NOUN'), ('and', 'CONJ'), ('its', 'PRON'), ('moons', 'NOUN'), ('are', 'VERB'), ('in', 'ADP'), ('effect', 'NOUN'), ('a', 'DET'), ('minisolar', 'NOUN'), ('system', 'NOUN'), (',', '.'), ('and', 'CONJ'), ('Jupiter', 'NOUN'), ('itself', 'PRON'), ('is', 'VERB'), ('often', 'ADV'), ('called', 'VERB'), ('a', 'DET'), ('star', 'NOUN'), ('that', 'DET'), ('never', 'ADV'), ('caught', 'VERB'), ('fire', 'NOUN'), ('.', '.')]\n"
     ]
    }
   ],
   "source": [
    "sentence = '''The planet Jupiter and its moons are in effect a minisolar system,\n",
    "and Jupiter itself is often called a star that never caught fire.'''\n",
    "\n",
    "# The/DT planet/NN Jupiter/NNP and/CC its/PPS moons/NNS are/VBP in/IN effect/NN\n",
    "# a/DT minisolar/JJ system/?? ,/, and/CC Jupiter/NNP itself/PRP is/VBZ often/RB\n",
    "# called/VBN a/DT star/?? that/IN never/RB caught/??? fire/NN ./.\n",
    "\n",
    "#Pen Tree Tagset\n",
    "\n",
    "import nltk\n",
    "from nltk.tag import pos_tag, map_tag\n",
    "\n",
    "tokens = nltk.word_tokenize(sentence)\n",
    "posTagged = nltk.pos_tag(tokens)\n",
    "simplifiedTags = [(word, map_tag('en-ptb', 'universal', tag)) for word, tag in posTagged]\n",
    "print(simplifiedTags)"
   ]
  },
  {
   "cell_type": "code",
   "execution_count": 8,
   "metadata": {
    "collapsed": false
   },
   "outputs": [
    {
     "name": "stdout",
     "output_type": "stream",
     "text": [
      "The/DT planet/NN Jupiter/NNP and/CC its/PRP$ moons/NNS are/VBP in/IN effect/NN a/DT minisolar/NN system/NN ,/, and/CC Jupiter/NNP itself/PRP is/VBZ often/RB called/VBN a/DT star/NN that/WDT never/RB caught/VBD fire/NN ./. "
     ]
    }
   ],
   "source": [
    "for ttuple in tagged_text:\n",
    "    print(\"{0}/{1}\".format(ttuple[0],ttuple[1]), end=' ')"
   ]
  },
  {
   "cell_type": "code",
   "execution_count": null,
   "metadata": {
    "collapsed": true
   },
   "outputs": [],
   "source": []
  }
 ],
 "metadata": {
  "kernelspec": {
   "display_name": "Python 3",
   "language": "python",
   "name": "python3"
  },
  "language_info": {
   "codemirror_mode": {
    "name": "ipython",
    "version": 3
   },
   "file_extension": ".py",
   "mimetype": "text/x-python",
   "name": "python",
   "nbconvert_exporter": "python",
   "pygments_lexer": "ipython3",
   "version": "3.6.0"
  }
 },
 "nbformat": 4,
 "nbformat_minor": 2
}
